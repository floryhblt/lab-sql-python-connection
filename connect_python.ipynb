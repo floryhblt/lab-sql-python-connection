{
 "cells": [
  {
   "cell_type": "code",
   "execution_count": null,
   "id": "1e31c2e2-9715-47af-95bf-5dc3ffda8ab9",
   "metadata": {
    "scrolled": true
   },
   "outputs": [],
   "source": [
    "import pandas as pd\n",
    "import numpy as np\n",
    "import pymysql\n",
    "from sqlalchemy import create_engine\n",
    "import getpass  # To get the password without showing the input\n",
    "password = getpass.getpass()"
   ]
  },
  {
   "cell_type": "code",
   "execution_count": null,
   "id": "7cbda920-d242-4320-a8ed-f89b633ab558",
   "metadata": {},
   "outputs": [],
   "source": [
    "connection_string = 'mysql+pymysql://root:' + password + '@localhost/'+ 'sakila'\n",
    "engine = create_engine(connection_string)\n",
    "engine"
   ]
  },
  {
   "cell_type": "code",
   "execution_count": null,
   "id": "223c7074-a402-4d47-bce3-39394e13816c",
   "metadata": {
    "scrolled": true
   },
   "outputs": [],
   "source": [
    "sqlalchemy.create_engine(connection_string)"
   ]
  },
  {
   "cell_type": "code",
   "execution_count": null,
   "id": "a918869e-9b57-450c-afb4-391d987081cc",
   "metadata": {},
   "outputs": [],
   "source": [
    "connection = engine.connect()"
   ]
  },
  {
   "cell_type": "code",
   "execution_count": null,
   "id": "57b5f547-fc70-40ba-8eae-27cdb0aa6ab0",
   "metadata": {},
   "outputs": [],
   "source": [
    "from sqlalchemy import text\n",
    "\n",
    "with engine.connect() as connection:\n",
    "    query = text('SELECT * FROM rental')\n",
    "    result = connection.execute(query)\n",
    "    print(pd.DataFrame(result.all()))\n"
   ]
  },
  {
   "cell_type": "code",
   "execution_count": null,
   "id": "ba367efd-0f0a-497b-97ee-34f681bbff9e",
   "metadata": {},
   "outputs": [],
   "source": [
    "def rental_month (engine, year, month):\n",
    "    with engine.connect() as connection:\n",
    "        txt = '''SELECT * FROM rental \n",
    "        WHERE YEAR(rental_date) = :year\n",
    "        AND MONTH(rental_date) = :month;'''\n",
    "        query = text(txt)\n",
    "        result = connection.execute(query, {\"year\": year, \"month\": month})\n",
    "        df =  pd.DataFrame(result.fetchall(), columns=result.keys())\n",
    "    return df\n",
    "\n",
    "\n",
    "rental_month(engine, 2005, 5)"
   ]
  },
  {
   "cell_type": "code",
   "execution_count": null,
   "id": "6d954cc3-a347-4835-9d22-d99dda47b841",
   "metadata": {
    "scrolled": true
   },
   "outputs": [],
   "source": [
    "def rental_count_month(df):\n",
    "    rental_counts = df.groupby('customer_id').size().reset_index(name='rental_count')\n",
    "    return rental_counts\n",
    "\n",
    "rental_count_month(df)\n",
    "\n",
    "# Get rental data for May 2005\n",
    "rental_data = rental_month(engine, 2005, 5)\n",
    "\n",
    "# Compute rental counts for each customer\n",
    "rental_counts = rental_count_month(rental_data)\n",
    "print(rental_counts.head())"
   ]
  },
  {
   "cell_type": "code",
   "execution_count": null,
   "id": "69f9de34-1f6e-413a-890c-3a87da3c668e",
   "metadata": {},
   "outputs": [],
   "source": [
    "def compare_rentals(df1, df2):\n",
    "    df1 = df1.rename(columns={'rental_count': 'rental_count_1'})\n",
    "    df2 = df2.rename(columns={'rental_count': 'rental_count_2'})\n",
    "    combined_df = pd.merge(df1, df2, on='customer_id', how='outer')\n",
    "    combined_df.fillna(0, inplace=True)\n",
    "    combined_df['difference'] = combined_df['rental_count_1'] - combined_df['rental_count_2']\n",
    "    return combined_df\n",
    "\n",
    "# Get rental data for May 2005\n",
    "rental_data1 = rental_month(engine, 2005, 5)\n",
    "rental_counts1 = rental_count_month(rental_data1)\n",
    "\n",
    "# Get rental data for June 2005\n",
    "rental_data2 = rental_month(engine, 2005, 6)\n",
    "rental_counts2 = rental_count_month(rental_data2)\n",
    "\n",
    "# Compare the rental counts between May and June 2005\n",
    "comparison = compare_rentals(rental_counts1, rental_counts2)\n",
    "\n",
    "# Display the comparison DataFrame\n",
    "print(comparison.head())"
   ]
  }
 ],
 "metadata": {
  "kernelspec": {
   "display_name": "Python 3 (ipykernel)",
   "language": "python",
   "name": "python3"
  },
  "language_info": {
   "codemirror_mode": {
    "name": "ipython",
    "version": 3
   },
   "file_extension": ".py",
   "mimetype": "text/x-python",
   "name": "python",
   "nbconvert_exporter": "python",
   "pygments_lexer": "ipython3",
   "version": "3.12.4"
  }
 },
 "nbformat": 4,
 "nbformat_minor": 5
}
